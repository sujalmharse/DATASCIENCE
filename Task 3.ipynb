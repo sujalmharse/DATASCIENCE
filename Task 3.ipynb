{
 "cells": [
  {
   "cell_type": "markdown",
   "id": "9bcd48a6",
   "metadata": {},
   "source": [
    "Name = Sujal Mharse || \n",
    "Branch = CO ||\n",
    "Task = 3"
   ]
  },
  {
   "cell_type": "code",
   "execution_count": null,
   "id": "1f952563",
   "metadata": {},
   "outputs": [
    {
     "name": "stdout",
     "output_type": "stream",
     "text": [
      "Created array: [1 2 3]\n",
      "Array Filled with zeros: [[0. 0. 0.]\n",
      " [0. 0. 0.]]\n",
      "Array filled with one: [[1. 1.]\n",
      " [1. 1.]\n",
      " [1. 1.]]\n",
      "Evenly spread values: [0 2 4 6 8]\n",
      "Shape of the array: [[1 2 3]\n",
      " [4 5 6]]\n",
      "Sum of the array: 6\n",
      "Mean of the array: 2.0\n",
      "Std of the array: 0.816496580927726\n",
      "Min and max of the array: (np.int64(1), np.int64(3))\n",
      "Dots in array: 11\n",
      "Concatenated array: [1 2 3 1 2 3]\n",
      "Split of array: [array([1]), array([2]), array([3])]\n",
      "Transpose: [1 2 3]\n",
      "Flatten array: [1 2 3]\n",
      "Unique number in array: [1 2 3]\n"
     ]
    }
   ],
   "source": [
    "import numpy as np\n",
    "\n",
    "#array()\n",
    "a = np.array([1,2,3])\n",
    "print(\"Created array:\", a)\n",
    "\n",
    "#Zeros()\n",
    "array = np.zeros([2,3])\n",
    "print(\"Array Filled with zeros:\", array)\n",
    "\n",
    "#Ones()\n",
    "array = np.ones([3,2])\n",
    "print(\"Array filled with one:\", array)\n",
    "\n",
    "#Arange()\n",
    "array = np.arange(0,10,2)\n",
    "print(\"Evenly spread values:\", array)\n",
    "\n",
    "#Reshape()\n",
    "array = np.array([1,2,3,4,5,6]) .reshape([2,3])\n",
    "print(\"Shape of the array:\", array)\n",
    "\n",
    "#sum()\n",
    "array = np.sum(a)\n",
    "print(\"Sum of the array:\", array)\n",
    "\n",
    "#mean()\n",
    "array = np.mean(a)\n",
    "print(\"Mean of the array:\", array)\n",
    "\n",
    "#Std()\n",
    "array = np.std(a)\n",
    "print(\"Std of the array:\", array)\n",
    "\n",
    "#Min/Max()\n",
    "array = np.min(a), np.max(a)\n",
    "print(\"Min and max of the array:\", array)\n",
    "\n",
    "#Dot()\n",
    "array = np.dot([1,2],[3,4])\n",
    "print(\"Dots in array:\", array)\n",
    "\n",
    "#Concatenate()\n",
    "array = np.concatenate((a,a))\n",
    "print(\"Concatenated array:\", array)\n",
    "\n",
    "#split()\n",
    "array = np.split(a,3)\n",
    "print(\"Split of array:\", array)\n",
    "\n",
    "#transpose()\n",
    "array = a.T\n",
    "print(\"Transpose:\", array)\n",
    "\n",
    "#Flatten()\n",
    "array = a.flatten()\n",
    "print(\"Flatten array:\", array)\n",
    "\n",
    "#Unique()\n",
    "array = np.unique([1,2,2,3,3,3])\n",
    "print(\"Unique number in array:\", array)"
   ]
  }
 ],
 "metadata": {
  "kernelspec": {
   "display_name": "Python 3",
   "language": "python",
   "name": "python3"
  },
  "language_info": {
   "codemirror_mode": {
    "name": "ipython",
    "version": 3
   },
   "file_extension": ".py",
   "mimetype": "text/x-python",
   "name": "python",
   "nbconvert_exporter": "python",
   "pygments_lexer": "ipython3",
   "version": "3.13.4"
  }
 },
 "nbformat": 4,
 "nbformat_minor": 5
}
