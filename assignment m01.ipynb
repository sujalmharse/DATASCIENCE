{
 "cells": [
  {
   "cell_type": "markdown",
   "id": "2db23768",
   "metadata": {},
   "source": [
    "STRING"
   ]
  },
  {
   "cell_type": "code",
   "execution_count": 11,
   "id": "e1ea313e",
   "metadata": {},
   "outputs": [
    {
     "name": "stdout",
     "output_type": "stream",
     "text": [
      "11\n",
      "hello\n",
      "HELLO\n",
      "hello\n",
      "True\n",
      "orange banana orange\n",
      "['red', 'green', 'blue']\n",
      "red-green-blue\n",
      "7\n",
      "True\n"
     ]
    }
   ],
   "source": [
    "text = \"Hello World\"\n",
    "print(len(text))  # Output: 11\n",
    "\n",
    "text = \"HELLO\"\n",
    "print(text.lower())  # Output: hello\n",
    "\n",
    "text = \"hello\"\n",
    "print(text.upper())  # Output: HELLO\n",
    "\n",
    "text = \"  hello  \"\n",
    "print(text.strip())  # Output: 'hello'\n",
    "\n",
    "text = \"hello world\"\n",
    "print(text.startswith(\"hello\"))  # Output: True\n",
    "\n",
    "text = \"apple banana apple\"\n",
    "print(text.replace(\"apple\", \"orange\"))  # Output: orange banana orange\n",
    "\n",
    "text = \"red,green,blue\"\n",
    "print(text.split(\",\"))  # Output: ['red', 'green', 'blue']\n",
    "\n",
    "\n",
    "colors = ['red', 'green', 'blue']\n",
    "print(\"-\".join(colors))  # Output: red-green-blue\n",
    "\n",
    "text = \"Python programming\"\n",
    "print(text.find(\"program\"))  # Output: 7\n",
    "\n",
    "num = \"12345\"\n",
    "print(num.isdigit())  # Output: True"
   ]
  },
  {
   "cell_type": "markdown",
   "id": "55247129",
   "metadata": {},
   "source": [
    "BITWISE OPERATORS"
   ]
  },
  {
   "cell_type": "code",
   "execution_count": 12,
   "id": "70e17292",
   "metadata": {},
   "outputs": [
    {
     "name": "stdout",
     "output_type": "stream",
     "text": [
      "a & b = 4\n",
      "a | b = 5\n",
      "a ^ b = 1\n",
      "~a = -6\n",
      "a << 1 = 10\n",
      "a >> 1 = 2\n"
     ]
    }
   ],
   "source": [
    "a = 5\n",
    "b = 4\n",
    "\n",
    "print(\"a & b =\", a & b)       # AND\n",
    "print(\"a | b =\", a | b)       # OR\n",
    "print(\"a ^ b =\", a ^ b)       # XOR\n",
    "print(\"~a =\", ~a)             # NOT\n",
    "print(\"a << 1 =\", a << 1)     # Left Shift\n",
    "print(\"a >> 1 =\", a >> 1)     # Right Shift"
   ]
  },
  {
   "cell_type": "markdown",
   "id": "86de88f6",
   "metadata": {},
   "source": [
    "FILE OPERATORS"
   ]
  },
  {
   "cell_type": "code",
   "execution_count": 13,
   "id": "612c5bd3",
   "metadata": {},
   "outputs": [
    {
     "name": "stdout",
     "output_type": "stream",
     "text": [
      "Write mode: File written successfully.\n",
      "Append mode: Line added.\n",
      "\n",
      "Reading file content:\n",
      "This is written using write mode.\n",
      "This line is added using append mode.\n",
      "\n",
      "'x' mode: newfile.txt already exists, cannot create.\n"
     ]
    }
   ],
   "source": [
    "filename = \"python.txt\"\n",
    "\n",
    "#Write mode ('w') \n",
    "with open(filename, \"w\") as file:\n",
    "    file.write(\"This is written using write mode.\\n\")\n",
    "print(\"Write mode: File written successfully.\")\n",
    "\n",
    "#Append mode ('a') \n",
    "with open(filename, \"a\") as file:\n",
    "    file.write(\"This line is added using append mode.\\n\")\n",
    "print(\"Append mode: Line added.\")\n",
    "\n",
    "#Read mode ('r') \n",
    "try:\n",
    "    with open(filename, \"r\") as file:\n",
    "        print(\"\\nReading file content:\")\n",
    "        print(file.read())\n",
    "except FileNotFoundError:\n",
    "    print(\"File not found for reading.\")\n",
    "\n",
    "#Exclusive creation mode ('x') \n",
    "try:\n",
    "    with open(\"newfile.txt\", \"x\") as file:\n",
    "        file.write(\"This file was created using 'x' mode.\\n\")\n",
    "    print(\"'x' mode: newfile.txt created successfully.\")\n",
    "except FileExistsError:\n",
    "    print(\"'x' mode: newfile.txt already exists, cannot create.\")"
   ]
  },
  {
   "cell_type": "markdown",
   "id": "37716188",
   "metadata": {},
   "source": [
    "ASSIGNMENT OPERATOR"
   ]
  },
  {
   "cell_type": "code",
   "execution_count": 14,
   "id": "7743b04e",
   "metadata": {},
   "outputs": [
    {
     "name": "stdout",
     "output_type": "stream",
     "text": [
      "Initial x = 10\n",
      "x += 5  → 15\n",
      "x -= 3  → 12\n",
      "x *= 2  → 24\n",
      "x /= 4  → 6.0\n",
      "x %= 3  → 0.0\n",
      "x //= 3 → 3\n",
      "x **= 2 → 9\n",
      "x &= 3  → 2\n",
      "x |= 4  → 6\n",
      "x ^= 1  → 7\n"
     ]
    }
   ],
   "source": [
    "# Simple Assignment\n",
    "x = 10\n",
    "print(\"Initial x =\", x)\n",
    "\n",
    "# Add and Assign\n",
    "x += 5\n",
    "print(\"x += 5  →\", x)\n",
    "\n",
    "# Subtract and Assign\n",
    "x -= 3\n",
    "print(\"x -= 3  →\", x)\n",
    "\n",
    "# Multiply and Assign\n",
    "x *= 2\n",
    "print(\"x *= 2  →\", x)\n",
    "\n",
    "# Divide and Assign\n",
    "x /= 4\n",
    "print(\"x /= 4  →\", x)\n",
    "\n",
    "# Modulus and Assign\n",
    "x %= 3\n",
    "print(\"x %= 3  →\", x)\n",
    "\n",
    "# Floor Divide and Assign\n",
    "x = 10\n",
    "x //= 3\n",
    "print(\"x //= 3 →\", x)\n",
    "\n",
    "# Exponent and Assign\n",
    "x **= 2\n",
    "print(\"x **= 2 →\", x)\n",
    "\n",
    "# Bitwise AND and Assign\n",
    "x = 6\n",
    "x &= 3\n",
    "print(\"x &= 3  →\", x)\n",
    "\n",
    "# Bitwise OR and Assign\n",
    "x |= 4\n",
    "print(\"x |= 4  →\", x)\n",
    "\n",
    "# Bitwise XOR and Assign\n",
    "x ^= 1\n",
    "print(\"x ^= 1  →\", x)"
   ]
  }
 ],
 "metadata": {
  "kernelspec": {
   "display_name": "base",
   "language": "python",
   "name": "python3"
  },
  "language_info": {
   "codemirror_mode": {
    "name": "ipython",
    "version": 3
   },
   "file_extension": ".py",
   "mimetype": "text/x-python",
   "name": "python",
   "nbconvert_exporter": "python",
   "pygments_lexer": "ipython3",
   "version": "3.13.5"
  }
 },
 "nbformat": 4,
 "nbformat_minor": 5
}
