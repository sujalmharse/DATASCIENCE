{
 "cells": [
  {
   "cell_type": "markdown",
   "id": "1b77f558",
   "metadata": {},
   "source": [
    "STRING FUNCTIONS"
   ]
  },
  {
   "cell_type": "code",
   "execution_count": 9,
   "id": "572e0672",
   "metadata": {},
   "outputs": [
    {
     "name": "stdout",
     "output_type": "stream",
     "text": [
      "Hello\n",
      "Apple\n",
      "['One', 'Two', 'Three']\n",
      "One-Two-Three\n",
      "6\n",
      "True\n",
      "True\n",
      "True\n",
      "True\n",
      "Hello World\n"
     ]
    }
   ],
   "source": [
    "#Strip Function\n",
    "text = '  Hello  '\n",
    "print(text.strip())\n",
    "\n",
    "#Replace Function\n",
    "text = 'apple'\n",
    "print(text.replace(\"a\",\"A\"))\n",
    "\n",
    "#Split Function\n",
    "text = \"One,Two,Three\"\n",
    "print(text.split(\",\"))\n",
    "\n",
    "#Join Function\n",
    "text = \"One\",\"Two\",\"Three\"\n",
    "print(\"-\".join(text))\n",
    "\n",
    "#Find Function\n",
    "Text = \"Hello World\"\n",
    "print(Text.find(\"World\"))\n",
    "\n",
    "#Startswith Function\n",
    "Text = \"Hello\"\n",
    "print(Text.startswith(\"He\"))\n",
    "\n",
    "#Endswith Function\n",
    "Text = \"World\"\n",
    "print(Text.endswith(\"ld\"))\n",
    "\n",
    "#Isalpha Function\n",
    "Text = \"HelloWorld\"\n",
    "print(Text.isalpha())\n",
    "\n",
    "#Isdigit Function\n",
    "Digits = \"123456\"\n",
    "print(Digits.isdigit())\n",
    "\n",
    "#Title Function\n",
    "Text = \"Hello World\"\n",
    "print(Text.title())"
   ]
  },
  {
   "cell_type": "markdown",
   "id": "576c5a3f",
   "metadata": {},
   "source": [
    "BITWISE OPERATORS\n"
   ]
  },
  {
   "cell_type": "code",
   "execution_count": 31,
   "id": "ed7f9927",
   "metadata": {},
   "outputs": [
    {
     "name": "stdout",
     "output_type": "stream",
     "text": [
      "a & b = 0\n",
      "a | b = 14\n",
      "a ^ b = 14\n",
      "~a = -11\n",
      "a << 1 = 20\n",
      "a >> 1 = 5\n"
     ]
    }
   ],
   "source": [
    "a = 10\n",
    "b = 4\n",
    "\n",
    "print(\"a & b =\", a & b)       # AND\n",
    "print(\"a | b =\", a | b)       # OR\n",
    "print(\"a ^ b =\", a ^ b)       # XOR\n",
    "print(\"~a =\", ~a)             # NOT\n",
    "print(\"a << 1 =\", a << 1)     # Left Shift\n",
    "print(\"a >> 1 =\", a >> 1)     # Right Shift\n"
   ]
  },
  {
   "cell_type": "markdown",
   "id": "5dde246e",
   "metadata": {},
   "source": [
    "ASSIGNMENT OPERATOR"
   ]
  },
  {
   "cell_type": "code",
   "execution_count": 1,
   "id": "9aa28bf8",
   "metadata": {},
   "outputs": [
    {
     "name": "stdout",
     "output_type": "stream",
     "text": [
      "Initial x = 10\n",
      "x += 5: 15\n",
      "x -= 3: 12\n",
      "x *= 2: 24\n",
      "x /= 4: 6.0\n",
      "x %= 5: 1.0\n",
      "x //= 3: 3\n",
      "x **= 2: 9\n",
      "x &= 3: 3\n",
      "x |= 8: 11\n",
      "x ^= 2: 9\n",
      "x <<= 1: 18\n",
      "x >>= 2: 4\n"
     ]
    }
   ],
   "source": [
    "x = 10\n",
    "print(\"Initial x =\", x)     #Simple Assignment\n",
    "\n",
    "\n",
    "x += 5\n",
    "print(\"x += 5:\", x)     #Add And Assign\n",
    "x -= 3\n",
    "print(\"x -= 3:\", x)     #Substract and Assign\n",
    "\n",
    "x *= 2\n",
    "print(\"x *= 2:\", x)     #Multiply and Assign\n",
    "\n",
    "x /= 4\n",
    "print(\"x /= 4:\", x)     #Divide and Assign\n",
    "\n",
    "x %= 5\n",
    "print(\"x %= 5:\", x)     #Modulus ans Assign\n",
    "\n",
    "x = 10\n",
    "x //= 3\n",
    "print(\"x //= 3:\", x)    #Floor Divide and Assign\n",
    "\n",
    "x **= 2\n",
    "print(\"x **= 2:\", x)    #Exponent and Assign\n",
    "\n",
    "x = 7\n",
    "x &= 3\n",
    "print(\"x &= 3:\", x)     #Bitwsise AND and Assign\n",
    "\n",
    "x |= 8\n",
    "print(\"x |= 8:\", x)     #Bitwise OR and Assign\n",
    "\n",
    "x ^= 2\n",
    "print(\"x ^= 2:\", x)     #Bitwsie XOR and Assign\n",
    "\n",
    "x <<= 1\n",
    "print(\"x <<= 1:\", x)    #Left Shift and Assign\n",
    "\n",
    "x >>= 2\n",
    "print(\"x >>= 2:\", x)    #Right Shift and Assign\n"
   ]
  },
  {
   "cell_type": "markdown",
   "id": "ccb90650",
   "metadata": {},
   "source": [
    "FILE OPERATORS"
   ]
  },
  {
   "cell_type": "code",
   "execution_count": null,
   "id": "1bcdaa82",
   "metadata": {},
   "outputs": [
    {
     "name": "stdout",
     "output_type": "stream",
     "text": [
      "Write mode: File written successfully.\n",
      "Append mode: Line added.\n",
      "\n",
      "Reading file content:\n",
      "This is written using write mode.\n",
      "This line is added using append mode.\n",
      "\n",
      "'x' mode: newfile.txt already exists, cannot create.\n"
     ]
    }
   ],
   "source": [
    "filename = \"demo.txt\"\n",
    "\n",
    "#Write mode ('w') \n",
    "with open(filename, \"w\") as file:\n",
    "    file.write(\"This is written using write mode.\\n\")\n",
    "print(\"Write mode: File written successfully.\")\n",
    "\n",
    "#Append mode ('a') \n",
    "with open(filename, \"a\") as file:\n",
    "    file.write(\"This line is added using append mode.\\n\")\n",
    "print(\"Append mode: Line added.\")\n",
    "\n",
    "#Read mode ('r') \n",
    "try:\n",
    "    with open(filename, \"r\") as file:\n",
    "        print(\"\\nReading file content:\")\n",
    "        print(file.read())\n",
    "except FileNotFoundError:\n",
    "    print(\"File not found for reading.\")\n"
   ]
  }
 ],
 "metadata": {
  "kernelspec": {
   "display_name": "Python 3",
   "language": "python",
   "name": "python3"
  },
  "language_info": {
   "codemirror_mode": {
    "name": "ipython",
    "version": 3
   },
   "file_extension": ".py",
   "mimetype": "text/x-python",
   "name": "python",
   "nbconvert_exporter": "python",
   "pygments_lexer": "ipython3",
   "version": "3.13.4"
  }
 },
 "nbformat": 4,
 "nbformat_minor": 5
}
